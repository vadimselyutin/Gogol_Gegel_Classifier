{
 "cells": [
  {
   "cell_type": "markdown",
   "metadata": {},
   "source": [
    "Приведение всех букв к нижнему регистру"
   ]
  },
  {
   "cell_type": "code",
   "execution_count": 1,
   "metadata": {},
   "outputs": [],
   "source": [
    "import io\n",
    "\n",
    "with io.open(\"sentences.txt\", encoding='cp1251') as f, open (\"lower_sentences.txt\", \"w\") as w:\n",
    "    for line in f:\n",
    "        w.write(line.lower().encode('cp1251'))\n",
    "\n",
    "f.close()\n",
    "w.close()"
   ]
  },
  {
   "cell_type": "markdown",
   "metadata": {},
   "source": [
    "Составление списка предложений"
   ]
  },
  {
   "cell_type": "code",
   "execution_count": 2,
   "metadata": {},
   "outputs": [],
   "source": [
    "import re\n",
    "with io.open(\"lower_sentences.txt\", encoding='cp1251') as f:\n",
    "\n",
    "    sent_list = []\n",
    "\n",
    "    for line in list(f):\n",
    "        sent_list.append(re.split(u'[^а-я]', line))\n",
    "\n",
    "f.close()"
   ]
  },
  {
   "cell_type": "markdown",
   "metadata": {},
   "source": [
    "Приведение всех слов к начальной форме, составление списка всех слов"
   ]
  },
  {
   "cell_type": "code",
   "execution_count": 4,
   "metadata": {},
   "outputs": [],
   "source": [
    "import pymorphy2\n",
    "\n",
    "def norm(x):\n",
    "    morph = pymorphy2.MorphAnalyzer()\n",
    "    p = morph.parse(x)[0]\n",
    "    return p.normal_form\n",
    "\n",
    "\n",
    "words_list = []\n",
    "norm_sent_list = []\n",
    "\n",
    "for i, sent in enumerate(sent_list):\n",
    "    norm_sent_list.append([])\n",
    "    for word in sent:\n",
    "        norm_word = norm(word)\n",
    "        norm_sent_list[i].append(norm_word)\n",
    "        if norm_word != '':\n",
    "            words_list.append(norm_word)"
   ]
  },
  {
   "cell_type": "markdown",
   "metadata": {},
   "source": [
    "Составление словаря: слово (ключ) - сколько раз оно встречается в предложениях (значение)"
   ]
  },
  {
   "cell_type": "code",
   "execution_count": 5,
   "metadata": {},
   "outputs": [],
   "source": [
    "words_dict = {}\n",
    "\n",
    "for word in words_list:\n",
    "    if word not in words_dict:\n",
    "        words_dict[word] = 1\n",
    "    else:\n",
    "        words_dict[word] += 1"
   ]
  },
  {
   "cell_type": "markdown",
   "metadata": {},
   "source": [
    "Посчитаем количество всех предложений и уникальных слов"
   ]
  },
  {
   "cell_type": "code",
   "execution_count": 6,
   "metadata": {},
   "outputs": [
    {
     "name": "stdout",
     "output_type": "stream",
     "text": [
      "120\n",
      "1078\n"
     ]
    }
   ],
   "source": [
    "print len(norm_sent_list)  # sent num = 120\n",
    "print len(words_dict)  # unique words num = 1078"
   ]
  },
  {
   "cell_type": "markdown",
   "metadata": {},
   "source": [
    "Составление списка списков: [сколько раз встречается слово, слово]"
   ]
  },
  {
   "cell_type": "code",
   "execution_count": 7,
   "metadata": {},
   "outputs": [],
   "source": [
    "words_freq = []\n",
    "\n",
    "for word in words_dict:\n",
    "    words_freq.append([words_dict[word], word])\n",
    "    \n",
    "words_freq.sort(reverse=True)"
   ]
  },
  {
   "cell_type": "markdown",
   "metadata": {},
   "source": [
    "Выберем 70 наиболее встречающихся во всех предложениях слов"
   ]
  },
  {
   "cell_type": "code",
   "execution_count": 8,
   "metadata": {},
   "outputs": [],
   "source": [
    "top_words = words_freq[:70]"
   ]
  },
  {
   "cell_type": "markdown",
   "metadata": {},
   "source": [
    "Составим матрицу, отражающую, сколько раз каждое из этих 70 слов встретилось в каждом предложении"
   ]
  },
  {
   "cell_type": "code",
   "execution_count": 9,
   "metadata": {},
   "outputs": [],
   "source": [
    "X = []\n",
    "\n",
    "for i, sent in enumerate(norm_sent_list):\n",
    "    X.append([])\n",
    "    for word in top_words:\n",
    "        X[i].append(sent.count(word[1]))"
   ]
  },
  {
   "cell_type": "markdown",
   "metadata": {},
   "source": [
    "Считаем из файла ответы и разобьем полученные данные на обучающую и тестовую выборки"
   ]
  },
  {
   "cell_type": "code",
   "execution_count": 10,
   "metadata": {},
   "outputs": [],
   "source": [
    "from sklearn.model_selection import train_test_split\n",
    "\n",
    "with io.open(\"y.txt\") as f:\n",
    "    y = []\n",
    "    for line in list(f):\n",
    "        y.append(int(line))\n",
    "f.close()\n",
    "\n",
    "(X_train, X_test, y_train, y_test) = train_test_split(X, y, test_size=0.3, shuffle=True)"
   ]
  },
  {
   "cell_type": "code",
   "execution_count": 11,
   "metadata": {},
   "outputs": [],
   "source": [
    "from sklearn.model_selection import GridSearchCV\n",
    "from sklearn.metrics import accuracy_score\n",
    "from sklearn.metrics import f1_score"
   ]
  },
  {
   "cell_type": "markdown",
   "metadata": {},
   "source": [
    "# Multinomial Naive Bayes"
   ]
  },
  {
   "cell_type": "code",
   "execution_count": 12,
   "metadata": {},
   "outputs": [
    {
     "data": {
      "text/plain": [
       "GridSearchCV(cv=4, error_score='raise',\n",
       "       estimator=MultinomialNB(alpha=1.0, class_prior=None, fit_prior=True),\n",
       "       fit_params=None, iid=True, n_jobs=1,\n",
       "       param_grid={'alpha': [0.0001, 0.001, 0.01, 1, 10, 100, 1000], 'fit_prior': [True, False]},\n",
       "       pre_dispatch='2*n_jobs', refit=True, return_train_score='warn',\n",
       "       scoring='f1', verbose=0)"
      ]
     },
     "execution_count": 12,
     "metadata": {},
     "output_type": "execute_result"
    }
   ],
   "source": [
    "# Multinomial Naive Bayes\n",
    "\n",
    "from sklearn.naive_bayes import MultinomialNB\n",
    "\n",
    "param_grid = {'alpha': [0.0001, 0.001, 0.01, 1, 10, 100, 1000], 'fit_prior': [True, False]}\n",
    "\n",
    "multi = MultinomialNB()\n",
    "optimizer = GridSearchCV(multi, param_grid, cv=4, scoring='f1')\n",
    "optimizer.fit(X_train, y_train)"
   ]
  },
  {
   "cell_type": "code",
   "execution_count": 13,
   "metadata": {},
   "outputs": [
    {
     "name": "stdout",
     "output_type": "stream",
     "text": [
      "{'alpha': 1, 'fit_prior': True}\n",
      "test accuracy score = 0.7777777777777778\n",
      "test f1 score = 0.7777777777777778\n",
      "train accuracy score = 0.9166666666666666\n",
      "train f1 score = 0.9195402298850575\n"
     ]
    }
   ],
   "source": [
    "# MNB performance evaluation\n",
    "\n",
    "print optimizer.best_params_\n",
    "\n",
    "y_predicted = optimizer.predict(X_test)\n",
    "\n",
    "print 'test accuracy score =', accuracy_score(y_test, y_predicted)\n",
    "print \"test f1 score =\", f1_score(y_test, y_predicted)\n",
    "\n",
    "y_predicted = optimizer.predict(X_train)\n",
    "\n",
    "print 'train accuracy score =', accuracy_score(y_train, y_predicted)\n",
    "print \"train f1 score =\", f1_score(y_train, y_predicted)"
   ]
  },
  {
   "cell_type": "markdown",
   "metadata": {},
   "source": [
    "# Logistic Regression"
   ]
  },
  {
   "cell_type": "code",
   "execution_count": 14,
   "metadata": {},
   "outputs": [
    {
     "data": {
      "text/plain": [
       "GridSearchCV(cv=4, error_score='raise',\n",
       "       estimator=LogisticRegression(C=1.0, class_weight=None, dual=False, fit_intercept=True,\n",
       "          intercept_scaling=1, max_iter=100, multi_class='ovr', n_jobs=1,\n",
       "          penalty='l2', random_state=None, solver='liblinear', tol=0.0001,\n",
       "          verbose=0, warm_start=False),\n",
       "       fit_params=None, iid=True, n_jobs=5,\n",
       "       param_grid={'penalty': ['l1', 'l2'], 'C': [0.001, 0.01, 0.1, 0.05, 0.5, 1, 5, 10, 100, 1000], 'intercept_scaling': [0.5, 0.7, 1, 1.2, 1.5, 2], 'fit_intercept': [True, False]},\n",
       "       pre_dispatch='2*n_jobs', refit=True, return_train_score='warn',\n",
       "       scoring='f1', verbose=0)"
      ]
     },
     "execution_count": 14,
     "metadata": {},
     "output_type": "execute_result"
    }
   ],
   "source": [
    "# Logistic Regression\n",
    "\n",
    "from sklearn.linear_model import LogisticRegression\n",
    "\n",
    "param_grid = {'C': [0.001, 0.01, 0.1, 0.05, 0.5, 1, 5, 10, 100, 1000], 'penalty': ['l1', 'l2'], 'fit_intercept': [True, False], 'intercept_scaling': [0.5, 0.7, 1, 1.2, 1.5, 2]}\n",
    "\n",
    "lr = LogisticRegression()\n",
    "optimizer = GridSearchCV(lr, param_grid, cv=4, n_jobs=5, scoring='f1')\n",
    "optimizer.fit(X_train, y_train)"
   ]
  },
  {
   "cell_type": "code",
   "execution_count": 15,
   "metadata": {},
   "outputs": [
    {
     "name": "stdout",
     "output_type": "stream",
     "text": [
      "{'penalty': 'l2', 'C': 0.1, 'intercept_scaling': 0.5, 'fit_intercept': False}\n",
      "test accuracy score = 0.8055555555555556\n",
      "test f1 score = 0.8108108108108107\n",
      "train accuracy score = 0.9285714285714286\n",
      "train f1 score = 0.9318181818181819\n"
     ]
    }
   ],
   "source": [
    "# LR performance evaluation\n",
    "\n",
    "print optimizer.best_params_\n",
    "\n",
    "y_predicted = optimizer.predict(X_test)\n",
    "\n",
    "print 'test accuracy score =', accuracy_score(y_test, y_predicted)\n",
    "print \"test f1 score =\", f1_score(y_test, y_predicted)\n",
    "\n",
    "y_predicted = optimizer.predict(X_train)\n",
    "\n",
    "print 'train accuracy score =', accuracy_score(y_train, y_predicted)\n",
    "print \"train f1 score =\", f1_score(y_train, y_predicted)"
   ]
  },
  {
   "cell_type": "markdown",
   "metadata": {},
   "source": [
    "# SVM"
   ]
  },
  {
   "cell_type": "code",
   "execution_count": 16,
   "metadata": {},
   "outputs": [
    {
     "data": {
      "text/plain": [
       "GridSearchCV(cv=4, error_score='raise',\n",
       "       estimator=SVC(C=1.0, cache_size=200, class_weight=None, coef0=0.0,\n",
       "  decision_function_shape='ovr', degree=3, gamma='auto', kernel='rbf',\n",
       "  max_iter=-1, probability=False, random_state=None, shrinking=True,\n",
       "  tol=0.001, verbose=False),\n",
       "       fit_params=None, iid=True, n_jobs=5,\n",
       "       param_grid={'kernel': ['rbf', 'linear'], 'C': [0.001, 0.01, 0.1, 1, 10, 100, 1000], 'gamma': [0.0001, 0.001, 0.01, 0.1, 1]},\n",
       "       pre_dispatch='2*n_jobs', refit=True, return_train_score='warn',\n",
       "       scoring='f1', verbose=0)"
      ]
     },
     "execution_count": 16,
     "metadata": {},
     "output_type": "execute_result"
    }
   ],
   "source": [
    "# SVM\n",
    "\n",
    "from sklearn.svm import SVC\n",
    "\n",
    "param_grid = {'C': [0.001, 0.01, 0.1, 1, 10, 100, 1000], 'gamma': [0.0001, 0.001, 0.01, 0.1, 1], 'kernel': ['rbf', 'linear']}\n",
    "\n",
    "clf = SVC()\n",
    "optimizer = GridSearchCV(clf, param_grid, cv=4, n_jobs=5, scoring='f1')\n",
    "optimizer.fit(X_train, y_train)"
   ]
  },
  {
   "cell_type": "code",
   "execution_count": 17,
   "metadata": {},
   "outputs": [
    {
     "name": "stdout",
     "output_type": "stream",
     "text": [
      "{'kernel': 'rbf', 'C': 10, 'gamma': 0.01}\n",
      "test accuracy score = 0.8333333333333334\n",
      "test f1 score = 0.8125\n",
      "train accuracy score = 0.9642857142857143\n",
      "train f1 score = 0.963855421686747\n"
     ]
    }
   ],
   "source": [
    "# SVM performance evaluation\n",
    "\n",
    "print optimizer.best_params_\n",
    "\n",
    "y_predicted = optimizer.predict(X_test)\n",
    "\n",
    "print 'test accuracy score =', accuracy_score(y_test, y_predicted)\n",
    "print \"test f1 score =\", f1_score(y_test, y_predicted)\n",
    "\n",
    "y_predicted = optimizer.predict(X_train)\n",
    "\n",
    "print 'train accuracy score =', accuracy_score(y_train, y_predicted)\n",
    "print \"train f1 score =\", f1_score(y_train, y_predicted)"
   ]
  },
  {
   "cell_type": "markdown",
   "metadata": {},
   "source": [
    "# kNN"
   ]
  },
  {
   "cell_type": "code",
   "execution_count": 18,
   "metadata": {},
   "outputs": [
    {
     "data": {
      "text/plain": [
       "GridSearchCV(cv=4, error_score='raise',\n",
       "       estimator=KNeighborsClassifier(algorithm='auto', leaf_size=30, metric='minkowski',\n",
       "           metric_params=None, n_jobs=1, n_neighbors=5, p=2,\n",
       "           weights='uniform'),\n",
       "       fit_params=None, iid=True, n_jobs=5,\n",
       "       param_grid={'p': [1, 2, 3], 'weights': ['uniform', 'distance'], 'algorithm': ['auto'], 'n_neighbors': [1, 2, 3, 4, 5, 6, 7, 8, 9, 10, 11, 12, 13, 14, 15, 16, 17, 18, 19, 20, 21, 22, 23, 24, 25, 26, 27, 28, 29, 30]},\n",
       "       pre_dispatch='2*n_jobs', refit=True, return_train_score='warn',\n",
       "       scoring='f1', verbose=0)"
      ]
     },
     "execution_count": 18,
     "metadata": {},
     "output_type": "execute_result"
    }
   ],
   "source": [
    "# kNN\n",
    "\n",
    "from sklearn.neighbors import KNeighborsClassifier\n",
    "\n",
    "param_grid = dict(n_neighbors=list(range(1, 31)), weights=['uniform', 'distance'], p=[1, 2, 3], algorithm=['auto'])\n",
    "\n",
    "clf = KNeighborsClassifier()\n",
    "optimizer = GridSearchCV(clf, param_grid, cv=4, n_jobs=5, scoring='f1')\n",
    "optimizer.fit(X_train, y_train)"
   ]
  },
  {
   "cell_type": "code",
   "execution_count": 19,
   "metadata": {},
   "outputs": [
    {
     "name": "stdout",
     "output_type": "stream",
     "text": [
      "{'n_neighbors': 7, 'weights': 'distance', 'algorithm': 'auto', 'p': 3}\n",
      "test accuracy score = 0.6666666666666666\n",
      "test f1 score = 0.625\n",
      "train accuracy score = 1.0\n",
      "train f1 score = 1.0\n"
     ]
    }
   ],
   "source": [
    "# kNN performance evaluation\n",
    "\n",
    "print optimizer.best_params_\n",
    "\n",
    "y_predicted = optimizer.predict(X_test)\n",
    "\n",
    "print 'test accuracy score =', accuracy_score(y_test, y_predicted)\n",
    "print \"test f1 score =\", f1_score(y_test, y_predicted)\n",
    "\n",
    "y_predicted = optimizer.predict(X_train)\n",
    "\n",
    "print 'train accuracy score =', accuracy_score(y_train, y_predicted)\n",
    "print \"train f1 score =\", f1_score(y_train, y_predicted)"
   ]
  }
 ],
 "metadata": {
  "kernelspec": {
   "display_name": "Python 2",
   "language": "python",
   "name": "python2"
  },
  "language_info": {
   "codemirror_mode": {
    "name": "ipython",
    "version": 2
   },
   "file_extension": ".py",
   "mimetype": "text/x-python",
   "name": "python",
   "nbconvert_exporter": "python",
   "pygments_lexer": "ipython2",
   "version": "2.7.14"
  }
 },
 "nbformat": 4,
 "nbformat_minor": 2
}
